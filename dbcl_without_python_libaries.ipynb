{
  "nbformat": 4,
  "nbformat_minor": 0,
  "metadata": {
    "colab": {
      "name": "dbcl without python libaries",
      "provenance": [],
      "collapsed_sections": []
    },
    "kernelspec": {
      "name": "python3",
      "display_name": "Python 3"
    },
    "language_info": {
      "name": "python"
    }
  },
  "cells": [
    {
      "cell_type": "markdown",
      "source": [
        "# Mount a CSV file"
      ],
      "metadata": {
        "id": "lV4-ug-MsnAK"
      }
    },
    {
      "cell_type": "code",
      "execution_count": 8,
      "metadata": {
        "colab": {
          "base_uri": "https://localhost:8080/"
        },
        "id": "ur9lukssj9Ou",
        "outputId": "3a1de32d-f8c1-4717-ef9d-987e6b4bd60d"
      },
      "outputs": [
        {
          "output_type": "stream",
          "name": "stdout",
          "text": [
            "Mounted at /content/gdrive\n"
          ]
        }
      ],
      "source": [
        "from google.colab import drive\n",
        "drive.mount('/content/gdrive')"
      ]
    },
    {
      "cell_type": "markdown",
      "source": [
        "# CSV file:"
      ],
      "metadata": {
        "id": "3Ul-lcIostKk"
      }
    },
    {
      "cell_type": "code",
      "source": [
        "file1=\"/content/gdrive/My Drive/Colab Notebooks/data.csv\"\n",
        "file1"
      ],
      "metadata": {
        "colab": {
          "base_uri": "https://localhost:8080/",
          "height": 36
        },
        "id": "u0rO4Q81qrax",
        "outputId": "c5bc6ecf-cff2-4a54-8250-10b15f256df9"
      },
      "execution_count": 10,
      "outputs": [
        {
          "output_type": "execute_result",
          "data": {
            "text/plain": [
              "'/content/gdrive/My Drive/Colab Notebooks/data.csv'"
            ],
            "application/vnd.google.colaboratory.intrinsic+json": {
              "type": "string"
            }
          },
          "metadata": {},
          "execution_count": 10
        }
      ]
    },
    {
      "cell_type": "markdown",
      "source": [
        "# 1.Reading the CSV"
      ],
      "metadata": {
        "id": "dr1z5U6ws11j"
      }
    },
    {
      "cell_type": "code",
      "source": [
        "def read_csv(file1):\n",
        "    f = open(file1, 'r')\n",
        "    list_data = f.readlines()\n",
        "    for line in list_data:\n",
        "        f.close()\n",
        "        yield line"
      ],
      "metadata": {
        "id": "aGa21dBwrFlX"
      },
      "execution_count": 11,
      "outputs": []
    },
    {
      "cell_type": "markdown",
      "source": [
        "# 2.Printing the data"
      ],
      "metadata": {
        "id": "NBHQMtans7sR"
      }
    },
    {
      "cell_type": "code",
      "source": [
        "def print_csv(file1):\n",
        "    for line in read_csv(file1):\n",
        "        print([line.replace('\\n','')])\n",
        "\n",
        "print_csv(file1)"
      ],
      "metadata": {
        "colab": {
          "base_uri": "https://localhost:8080/"
        },
        "id": "WtmzadfErL7t",
        "outputId": "212560a9-9d3f-4df0-8be1-b937d18e4b9b"
      },
      "execution_count": 13,
      "outputs": [
        {
          "output_type": "stream",
          "name": "stdout",
          "text": [
            "['ROLL,MARKS,PERCENTAGE']\n",
            "['1,55,60']\n",
            "['2,97,94']\n",
            "['3,66,70']\n",
            "['4,81,84']\n",
            "['5,72,80']\n"
          ]
        }
      ]
    },
    {
      "cell_type": "markdown",
      "source": [
        "# 3.Counting the number of rows in CSV"
      ],
      "metadata": {
        "id": "e6Le4uDRtHH-"
      }
    },
    {
      "cell_type": "code",
      "source": [
        "def row_count(file1):\n",
        "    count = 0\n",
        "    for row in read_csv(file1):\n",
        "        count = count + 1\n",
        "    return count\n",
        "\n",
        "row_count(file1)"
      ],
      "metadata": {
        "colab": {
          "base_uri": "https://localhost:8080/"
        },
        "id": "n3mzxdVarl9Z",
        "outputId": "cc9781a7-b32a-426a-ee26-f7b8a9b1bcd6"
      },
      "execution_count": 14,
      "outputs": [
        {
          "output_type": "execute_result",
          "data": {
            "text/plain": [
              "6"
            ]
          },
          "metadata": {},
          "execution_count": 14
        }
      ]
    },
    {
      "cell_type": "markdown",
      "source": [
        "# 4.Counting the number of columns"
      ],
      "metadata": {
        "id": "GQembbM_tNGm"
      }
    },
    {
      "cell_type": "code",
      "source": [
        "def column_count(file1):\n",
        "    for f_row in read_csv(file1):\n",
        "        ncol = f_row.count(',') + 1\n",
        "        return ncol\n",
        "     \n",
        "column_count(file1)"
      ],
      "metadata": {
        "id": "AZGESOG3rriQ"
      },
      "execution_count": null,
      "outputs": []
    },
    {
      "cell_type": "markdown",
      "source": [
        "# 5.Printing the first row of CSV"
      ],
      "metadata": {
        "id": "TPN_HAOotS9C"
      }
    },
    {
      "cell_type": "code",
      "source": [
        "def print_first_row_of_csv(file1):\n",
        "    for first_row in read_csv(file1):\n",
        "        print([first_row])\n",
        "        break\n",
        "\n",
        "print_first_row_of_csv(file1)\n"
      ],
      "metadata": {
        "colab": {
          "base_uri": "https://localhost:8080/"
        },
        "id": "Ey1LdLpBr0RR",
        "outputId": "8e624258-1fd0-4baf-95a0-e604bacee934"
      },
      "execution_count": 15,
      "outputs": [
        {
          "output_type": "stream",
          "name": "stdout",
          "text": [
            "['ROLL,MARKS,PERCENTAGE\\n']\n"
          ]
        }
      ]
    },
    {
      "cell_type": "markdown",
      "source": [
        "# 6.Printing the CSV without the first row"
      ],
      "metadata": {
        "id": "Da6teiLYtYT5"
      }
    },
    {
      "cell_type": "code",
      "source": [
        "def print_without_1_row(file1):\n",
        "    flag = False\n",
        "    for row in read_csv(file1):\n",
        "        if bool(flag) == False:\n",
        "            flag = True\n",
        "            pass\n",
        "        else:\n",
        "            print([row.replace('\\n', '')])\n",
        "\n",
        "print_without_1_row(file1)"
      ],
      "metadata": {
        "colab": {
          "base_uri": "https://localhost:8080/"
        },
        "id": "Ezshm3LAr9cK",
        "outputId": "3d103bc6-f8d4-440e-b767-dc075c0a23fc"
      },
      "execution_count": 16,
      "outputs": [
        {
          "output_type": "stream",
          "name": "stdout",
          "text": [
            "['1,55,60']\n",
            "['2,97,94']\n",
            "['3,66,70']\n",
            "['4,81,84']\n",
            "['5,72,80']\n"
          ]
        }
      ]
    },
    {
      "cell_type": "markdown",
      "source": [
        "# 7.Printing the last column of CSV"
      ],
      "metadata": {
        "id": "yKtuYVS8tfCa"
      }
    },
    {
      "cell_type": "code",
      "source": [
        "def print_last_col(file1):\n",
        "    with open(file1, 'r') as csv:\n",
        "        data = [line.replace('\\n','').split(',')[-1] for line in csv.readlines()]\n",
        "        return data\n",
        "\n",
        "print_last_col(file1)"
      ],
      "metadata": {
        "colab": {
          "base_uri": "https://localhost:8080/"
        },
        "id": "DCwNGNd2sGXN",
        "outputId": "c1046552-6a92-449b-8fd4-2a34e71c5011"
      },
      "execution_count": 18,
      "outputs": [
        {
          "output_type": "execute_result",
          "data": {
            "text/plain": [
              "['PERCENTAGE', '60', '94', '70', '84', '80']"
            ]
          },
          "metadata": {},
          "execution_count": 18
        }
      ]
    },
    {
      "cell_type": "markdown",
      "source": [
        "# 8.Printing the data without column Labels and target class"
      ],
      "metadata": {
        "id": "GifCFFSdtq6d"
      }
    },
    {
      "cell_type": "code",
      "source": [
        "def only_data(file1):\n",
        "    flag = False\n",
        "    for row in read_csv(file1):\n",
        "        if bool(flag) == False:\n",
        "            flag = True\n",
        "            pass\n",
        "        else:\n",
        "            l = row.strip().split(',')[-1]\n",
        "            row = row.replace(l, \"\")\n",
        "            print([row])\n",
        "\n",
        "only_data(file1)"
      ],
      "metadata": {
        "colab": {
          "base_uri": "https://localhost:8080/"
        },
        "id": "Ie3K8380sQzp",
        "outputId": "8e5a79a4-df09-4470-f24a-57351928094c"
      },
      "execution_count": 19,
      "outputs": [
        {
          "output_type": "stream",
          "name": "stdout",
          "text": [
            "['1,55,\\n']\n",
            "['2,97,\\n']\n",
            "['3,66,\\n']\n",
            "['4,81,\\n']\n",
            "['5,72,\\n']\n"
          ]
        }
      ]
    },
    {
      "cell_type": "markdown",
      "source": [
        "# 9.Printing Unique class labels"
      ],
      "metadata": {
        "id": "29zQ4oUbtxjV"
      }
    },
    {
      "cell_type": "code",
      "source": [
        "list_data = print_last_col(file1)\n",
        "\n",
        "def unique_class_labels(list_data):\n",
        "    unique_list = []\n",
        "\n",
        "    for x in list_data: \n",
        "        if x not in unique_list:\n",
        "            unique_list.append(x)\n",
        "\n",
        "    for x in unique_list:\n",
        "        print(list(x.split(',')))\n",
        "\n",
        "unique_class_labels(list_data)"
      ],
      "metadata": {
        "colab": {
          "base_uri": "https://localhost:8080/"
        },
        "id": "FWGCZRlisYyS",
        "outputId": "07abadce-afa9-4ee0-9cb0-4a40832baffe"
      },
      "execution_count": 20,
      "outputs": [
        {
          "output_type": "stream",
          "name": "stdout",
          "text": [
            "['PERCENTAGE']\n",
            "['60']\n",
            "['94']\n",
            "['70']\n",
            "['84']\n",
            "['80']\n"
          ]
        }
      ]
    },
    {
      "cell_type": "markdown",
      "source": [
        ""
      ],
      "metadata": {
        "id": "LHRHq4ldslk8"
      }
    }
  ]
}